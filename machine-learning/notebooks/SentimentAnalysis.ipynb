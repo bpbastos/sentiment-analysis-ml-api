{
  "cells": [
    {
      "cell_type": "markdown",
      "metadata": {
        "id": "Tl_q96yBaff-"
      },
      "source": [
        "# Objetivo\n",
        "\n",
        "Desenvolver um modelo de machine learning para realizar análise de sentimentos em reviews de aplicativos. O projeto utilizará técnicas de processamento de linguagem natural (NLP) para identificar e classificar as emoções expressas nos textos. O objetivo é criar uma ferramenta que melhore a compreensão do feedback dos usuários e outros conteúdos textuais, fornecendo insights valiosos de forma automatizada.\n",
        "\n",
        "### Configuração do ambiente"
      ]
    },
    {
      "cell_type": "code",
      "execution_count": 1,
      "metadata": {
        "colab": {
          "base_uri": "https://localhost:8080/"
        },
        "id": "OCGDt3XTaY57",
        "outputId": "f5f952ad-d9eb-47b5-a279-f6de4e9df7ba"
      },
      "outputs": [
        {
          "name": "stdout",
          "output_type": "stream",
          "text": [
            "Defaulting to user installation because normal site-packages is not writeable\n",
            "Requirement already satisfied: datasets in /home/bruno/.local/lib/python3.10/site-packages (2.21.0)\n",
            "Requirement already satisfied: huggingface_hub in /home/bruno/.local/lib/python3.10/site-packages (0.24.6)\n",
            "Requirement already satisfied: torch in /home/bruno/.local/lib/python3.10/site-packages (2.4.0)\n",
            "Requirement already satisfied: matplotlib in /home/bruno/.local/lib/python3.10/site-packages (3.9.2)\n",
            "Requirement already satisfied: scikit-learn in /home/bruno/.local/lib/python3.10/site-packages (1.5.1)\n",
            "Requirement already satisfied: packaging in /home/bruno/.local/lib/python3.10/site-packages (from datasets) (24.1)\n",
            "Requirement already satisfied: numpy>=1.17 in /home/bruno/.local/lib/python3.10/site-packages (from datasets) (1.26.4)\n",
            "Requirement already satisfied: pandas in /home/bruno/.local/lib/python3.10/site-packages (from datasets) (2.2.2)\n",
            "Requirement already satisfied: tqdm>=4.66.3 in /home/bruno/.local/lib/python3.10/site-packages (from datasets) (4.66.5)\n",
            "Requirement already satisfied: pyyaml>=5.1 in /usr/lib/python3/dist-packages (from datasets) (5.4.1)\n",
            "Requirement already satisfied: aiohttp in /home/bruno/.local/lib/python3.10/site-packages (from datasets) (3.10.5)\n",
            "Requirement already satisfied: dill<0.3.9,>=0.3.0 in /home/bruno/.local/lib/python3.10/site-packages (from datasets) (0.3.8)\n",
            "Requirement already satisfied: pyarrow>=15.0.0 in /home/bruno/.local/lib/python3.10/site-packages (from datasets) (17.0.0)\n",
            "Requirement already satisfied: requests>=2.32.2 in /home/bruno/.local/lib/python3.10/site-packages (from datasets) (2.32.3)\n",
            "Requirement already satisfied: xxhash in /home/bruno/.local/lib/python3.10/site-packages (from datasets) (3.5.0)\n",
            "Requirement already satisfied: fsspec[http]<=2024.6.1,>=2023.1.0 in /home/bruno/.local/lib/python3.10/site-packages (from datasets) (2024.6.1)\n",
            "Requirement already satisfied: multiprocess in /home/bruno/.local/lib/python3.10/site-packages (from datasets) (0.70.16)\n",
            "Requirement already satisfied: filelock in /usr/lib/python3/dist-packages (from datasets) (3.6.0)\n",
            "Requirement already satisfied: typing-extensions>=3.7.4.3 in /home/bruno/.local/lib/python3.10/site-packages (from huggingface_hub) (4.12.2)\n",
            "Requirement already satisfied: nvidia-cuda-nvrtc-cu12==12.1.105 in /home/bruno/.local/lib/python3.10/site-packages (from torch) (12.1.105)\n",
            "Requirement already satisfied: nvidia-cufft-cu12==11.0.2.54 in /home/bruno/.local/lib/python3.10/site-packages (from torch) (11.0.2.54)\n",
            "Requirement already satisfied: nvidia-cudnn-cu12==9.1.0.70 in /home/bruno/.local/lib/python3.10/site-packages (from torch) (9.1.0.70)\n",
            "Requirement already satisfied: nvidia-cusparse-cu12==12.1.0.106 in /home/bruno/.local/lib/python3.10/site-packages (from torch) (12.1.0.106)\n",
            "Requirement already satisfied: nvidia-nccl-cu12==2.20.5 in /home/bruno/.local/lib/python3.10/site-packages (from torch) (2.20.5)\n",
            "Requirement already satisfied: triton==3.0.0 in /home/bruno/.local/lib/python3.10/site-packages (from torch) (3.0.0)\n",
            "Requirement already satisfied: jinja2 in /home/bruno/.local/lib/python3.10/site-packages (from torch) (3.1.4)\n",
            "Requirement already satisfied: sympy in /home/bruno/.local/lib/python3.10/site-packages (from torch) (1.13.2)\n",
            "Requirement already satisfied: nvidia-cuda-runtime-cu12==12.1.105 in /home/bruno/.local/lib/python3.10/site-packages (from torch) (12.1.105)\n",
            "Requirement already satisfied: nvidia-cublas-cu12==12.1.3.1 in /home/bruno/.local/lib/python3.10/site-packages (from torch) (12.1.3.1)\n",
            "Requirement already satisfied: nvidia-curand-cu12==10.3.2.106 in /home/bruno/.local/lib/python3.10/site-packages (from torch) (10.3.2.106)\n",
            "Requirement already satisfied: nvidia-cusolver-cu12==11.4.5.107 in /home/bruno/.local/lib/python3.10/site-packages (from torch) (11.4.5.107)\n",
            "Requirement already satisfied: nvidia-nvtx-cu12==12.1.105 in /home/bruno/.local/lib/python3.10/site-packages (from torch) (12.1.105)\n",
            "Requirement already satisfied: networkx in /home/bruno/.local/lib/python3.10/site-packages (from torch) (3.3)\n",
            "Requirement already satisfied: nvidia-cuda-cupti-cu12==12.1.105 in /home/bruno/.local/lib/python3.10/site-packages (from torch) (12.1.105)\n",
            "Requirement already satisfied: nvidia-nvjitlink-cu12 in /home/bruno/.local/lib/python3.10/site-packages (from nvidia-cusolver-cu12==11.4.5.107->torch) (12.6.68)\n",
            "Requirement already satisfied: pillow>=8 in /home/bruno/.local/lib/python3.10/site-packages (from matplotlib) (10.4.0)\n",
            "Requirement already satisfied: kiwisolver>=1.3.1 in /home/bruno/.local/lib/python3.10/site-packages (from matplotlib) (1.4.5)\n",
            "Requirement already satisfied: contourpy>=1.0.1 in /home/bruno/.local/lib/python3.10/site-packages (from matplotlib) (1.3.0)\n",
            "Requirement already satisfied: pyparsing>=2.3.1 in /usr/lib/python3/dist-packages (from matplotlib) (2.4.7)\n",
            "Requirement already satisfied: python-dateutil>=2.7 in /home/bruno/.local/lib/python3.10/site-packages (from matplotlib) (2.9.0.post0)\n",
            "Requirement already satisfied: fonttools>=4.22.0 in /home/bruno/.local/lib/python3.10/site-packages (from matplotlib) (4.53.1)\n",
            "Requirement already satisfied: cycler>=0.10 in /home/bruno/.local/lib/python3.10/site-packages (from matplotlib) (0.12.1)\n",
            "Requirement already satisfied: scipy>=1.6.0 in /home/bruno/.local/lib/python3.10/site-packages (from scikit-learn) (1.14.1)\n",
            "Requirement already satisfied: threadpoolctl>=3.1.0 in /home/bruno/.local/lib/python3.10/site-packages (from scikit-learn) (3.5.0)\n",
            "Requirement already satisfied: joblib>=1.2.0 in /home/bruno/.local/lib/python3.10/site-packages (from scikit-learn) (1.4.2)\n",
            "Requirement already satisfied: frozenlist>=1.1.1 in /home/bruno/.local/lib/python3.10/site-packages (from aiohttp->datasets) (1.4.1)\n",
            "Requirement already satisfied: multidict<7.0,>=4.5 in /home/bruno/.local/lib/python3.10/site-packages (from aiohttp->datasets) (6.0.5)\n",
            "Requirement already satisfied: attrs>=17.3.0 in /home/bruno/.local/lib/python3.10/site-packages (from aiohttp->datasets) (24.2.0)\n",
            "Requirement already satisfied: async-timeout<5.0,>=4.0 in /home/bruno/.local/lib/python3.10/site-packages (from aiohttp->datasets) (4.0.3)\n",
            "Requirement already satisfied: aiohappyeyeballs>=2.3.0 in /home/bruno/.local/lib/python3.10/site-packages (from aiohttp->datasets) (2.4.0)\n",
            "Requirement already satisfied: aiosignal>=1.1.2 in /home/bruno/.local/lib/python3.10/site-packages (from aiohttp->datasets) (1.3.1)\n",
            "Requirement already satisfied: yarl<2.0,>=1.0 in /home/bruno/.local/lib/python3.10/site-packages (from aiohttp->datasets) (1.9.4)\n",
            "Requirement already satisfied: six>=1.5 in /usr/lib/python3/dist-packages (from python-dateutil>=2.7->matplotlib) (1.16.0)\n",
            "Requirement already satisfied: certifi>=2017.4.17 in /home/bruno/.local/lib/python3.10/site-packages (from requests>=2.32.2->datasets) (2024.8.30)\n",
            "Requirement already satisfied: urllib3<3,>=1.21.1 in /home/bruno/.local/lib/python3.10/site-packages (from requests>=2.32.2->datasets) (2.2.2)\n",
            "Requirement already satisfied: idna<4,>=2.5 in /home/bruno/.local/lib/python3.10/site-packages (from requests>=2.32.2->datasets) (3.8)\n",
            "Requirement already satisfied: charset-normalizer<4,>=2 in /home/bruno/.local/lib/python3.10/site-packages (from requests>=2.32.2->datasets) (3.3.2)\n",
            "Requirement already satisfied: MarkupSafe>=2.0 in /home/bruno/.local/lib/python3.10/site-packages (from jinja2->torch) (2.1.5)\n",
            "Requirement already satisfied: tzdata>=2022.7 in /home/bruno/.local/lib/python3.10/site-packages (from pandas->datasets) (2024.1)\n",
            "Requirement already satisfied: pytz>=2020.1 in /home/bruno/.local/lib/python3.10/site-packages (from pandas->datasets) (2024.1)\n",
            "Requirement already satisfied: mpmath<1.4,>=1.1.0 in /home/bruno/.local/lib/python3.10/site-packages (from sympy->torch) (1.3.0)\n",
            "Defaulting to user installation because normal site-packages is not writeable\n",
            "Requirement already satisfied: transformers in /home/bruno/.local/lib/python3.10/site-packages (4.44.2)\n",
            "Requirement already satisfied: regex!=2019.12.17 in /home/bruno/.local/lib/python3.10/site-packages (from transformers) (2024.7.24)\n",
            "Requirement already satisfied: tqdm>=4.27 in /home/bruno/.local/lib/python3.10/site-packages (from transformers) (4.66.5)\n",
            "Requirement already satisfied: packaging>=20.0 in /home/bruno/.local/lib/python3.10/site-packages (from transformers) (24.1)\n",
            "Requirement already satisfied: tokenizers<0.20,>=0.19 in /home/bruno/.local/lib/python3.10/site-packages (from transformers) (0.19.1)\n",
            "Requirement already satisfied: safetensors>=0.4.1 in /home/bruno/.local/lib/python3.10/site-packages (from transformers) (0.4.4)\n",
            "Requirement already satisfied: huggingface-hub<1.0,>=0.23.2 in /home/bruno/.local/lib/python3.10/site-packages (from transformers) (0.24.6)\n",
            "Requirement already satisfied: requests in /home/bruno/.local/lib/python3.10/site-packages (from transformers) (2.32.3)\n",
            "Requirement already satisfied: numpy>=1.17 in /home/bruno/.local/lib/python3.10/site-packages (from transformers) (1.26.4)\n",
            "Requirement already satisfied: pyyaml>=5.1 in /usr/lib/python3/dist-packages (from transformers) (5.4.1)\n",
            "Requirement already satisfied: filelock in /usr/lib/python3/dist-packages (from transformers) (3.6.0)\n",
            "Requirement already satisfied: fsspec>=2023.5.0 in /home/bruno/.local/lib/python3.10/site-packages (from huggingface-hub<1.0,>=0.23.2->transformers) (2024.6.1)\n",
            "Requirement already satisfied: typing-extensions>=3.7.4.3 in /home/bruno/.local/lib/python3.10/site-packages (from huggingface-hub<1.0,>=0.23.2->transformers) (4.12.2)\n",
            "Requirement already satisfied: urllib3<3,>=1.21.1 in /home/bruno/.local/lib/python3.10/site-packages (from requests->transformers) (2.2.2)\n",
            "Requirement already satisfied: charset-normalizer<4,>=2 in /home/bruno/.local/lib/python3.10/site-packages (from requests->transformers) (3.3.2)\n",
            "Requirement already satisfied: idna<4,>=2.5 in /home/bruno/.local/lib/python3.10/site-packages (from requests->transformers) (3.8)\n",
            "Requirement already satisfied: certifi>=2017.4.17 in /home/bruno/.local/lib/python3.10/site-packages (from requests->transformers) (2024.8.30)\n",
            "Defaulting to user installation because normal site-packages is not writeable\n",
            "Requirement already satisfied: spacy in /home/bruno/.local/lib/python3.10/site-packages (3.7.6)\n",
            "Requirement already satisfied: weasel<0.5.0,>=0.1.0 in /home/bruno/.local/lib/python3.10/site-packages (from spacy) (0.4.1)\n",
            "Requirement already satisfied: tqdm<5.0.0,>=4.38.0 in /home/bruno/.local/lib/python3.10/site-packages (from spacy) (4.66.5)\n",
            "Requirement already satisfied: thinc<8.3.0,>=8.2.2 in /home/bruno/.local/lib/python3.10/site-packages (from spacy) (8.2.5)\n",
            "Requirement already satisfied: jinja2 in /home/bruno/.local/lib/python3.10/site-packages (from spacy) (3.1.4)\n",
            "Requirement already satisfied: requests<3.0.0,>=2.13.0 in /home/bruno/.local/lib/python3.10/site-packages (from spacy) (2.32.3)\n",
            "Requirement already satisfied: typer<1.0.0,>=0.3.0 in /home/bruno/.local/lib/python3.10/site-packages (from spacy) (0.12.5)\n",
            "Requirement already satisfied: packaging>=20.0 in /home/bruno/.local/lib/python3.10/site-packages (from spacy) (24.1)\n",
            "Requirement already satisfied: murmurhash<1.1.0,>=0.28.0 in /home/bruno/.local/lib/python3.10/site-packages (from spacy) (1.0.10)\n",
            "Requirement already satisfied: catalogue<2.1.0,>=2.0.6 in /home/bruno/.local/lib/python3.10/site-packages (from spacy) (2.0.10)\n",
            "Requirement already satisfied: cymem<2.1.0,>=2.0.2 in /home/bruno/.local/lib/python3.10/site-packages (from spacy) (2.0.8)\n",
            "Requirement already satisfied: langcodes<4.0.0,>=3.2.0 in /home/bruno/.local/lib/python3.10/site-packages (from spacy) (3.4.0)\n",
            "Requirement already satisfied: spacy-legacy<3.1.0,>=3.0.11 in /home/bruno/.local/lib/python3.10/site-packages (from spacy) (3.0.12)\n",
            "Requirement already satisfied: spacy-loggers<2.0.0,>=1.0.0 in /home/bruno/.local/lib/python3.10/site-packages (from spacy) (1.0.5)\n",
            "Requirement already satisfied: setuptools in /usr/lib/python3/dist-packages (from spacy) (59.6.0)\n",
            "Requirement already satisfied: wasabi<1.2.0,>=0.9.1 in /home/bruno/.local/lib/python3.10/site-packages (from spacy) (1.1.3)\n",
            "Requirement already satisfied: srsly<3.0.0,>=2.4.3 in /home/bruno/.local/lib/python3.10/site-packages (from spacy) (2.4.8)\n",
            "Requirement already satisfied: preshed<3.1.0,>=3.0.2 in /home/bruno/.local/lib/python3.10/site-packages (from spacy) (3.0.9)\n",
            "Requirement already satisfied: pydantic!=1.8,!=1.8.1,<3.0.0,>=1.7.4 in /home/bruno/.local/lib/python3.10/site-packages (from spacy) (2.8.2)\n",
            "Requirement already satisfied: numpy>=1.19.0 in /home/bruno/.local/lib/python3.10/site-packages (from spacy) (1.26.4)\n",
            "Requirement already satisfied: language-data>=1.2 in /home/bruno/.local/lib/python3.10/site-packages (from langcodes<4.0.0,>=3.2.0->spacy) (1.2.0)\n",
            "Requirement already satisfied: pydantic-core==2.20.1 in /home/bruno/.local/lib/python3.10/site-packages (from pydantic!=1.8,!=1.8.1,<3.0.0,>=1.7.4->spacy) (2.20.1)\n",
            "Requirement already satisfied: annotated-types>=0.4.0 in /home/bruno/.local/lib/python3.10/site-packages (from pydantic!=1.8,!=1.8.1,<3.0.0,>=1.7.4->spacy) (0.7.0)\n",
            "Requirement already satisfied: typing-extensions>=4.6.1 in /home/bruno/.local/lib/python3.10/site-packages (from pydantic!=1.8,!=1.8.1,<3.0.0,>=1.7.4->spacy) (4.12.2)\n",
            "Requirement already satisfied: certifi>=2017.4.17 in /home/bruno/.local/lib/python3.10/site-packages (from requests<3.0.0,>=2.13.0->spacy) (2024.8.30)\n",
            "Requirement already satisfied: idna<4,>=2.5 in /home/bruno/.local/lib/python3.10/site-packages (from requests<3.0.0,>=2.13.0->spacy) (3.8)\n",
            "Requirement already satisfied: urllib3<3,>=1.21.1 in /home/bruno/.local/lib/python3.10/site-packages (from requests<3.0.0,>=2.13.0->spacy) (2.2.2)\n",
            "Requirement already satisfied: charset-normalizer<4,>=2 in /home/bruno/.local/lib/python3.10/site-packages (from requests<3.0.0,>=2.13.0->spacy) (3.3.2)\n",
            "Requirement already satisfied: blis<0.8.0,>=0.7.8 in /home/bruno/.local/lib/python3.10/site-packages (from thinc<8.3.0,>=8.2.2->spacy) (0.7.11)\n",
            "Requirement already satisfied: confection<1.0.0,>=0.0.1 in /home/bruno/.local/lib/python3.10/site-packages (from thinc<8.3.0,>=8.2.2->spacy) (0.1.5)\n",
            "Requirement already satisfied: click>=8.0.0 in /home/bruno/.local/lib/python3.10/site-packages (from typer<1.0.0,>=0.3.0->spacy) (8.1.7)\n",
            "Requirement already satisfied: shellingham>=1.3.0 in /home/bruno/.local/lib/python3.10/site-packages (from typer<1.0.0,>=0.3.0->spacy) (1.5.4)\n",
            "Requirement already satisfied: rich>=10.11.0 in /home/bruno/.local/lib/python3.10/site-packages (from typer<1.0.0,>=0.3.0->spacy) (13.8.0)\n",
            "Requirement already satisfied: smart-open<8.0.0,>=5.2.1 in /home/bruno/.local/lib/python3.10/site-packages (from weasel<0.5.0,>=0.1.0->spacy) (7.0.4)\n",
            "Requirement already satisfied: cloudpathlib<1.0.0,>=0.7.0 in /home/bruno/.local/lib/python3.10/site-packages (from weasel<0.5.0,>=0.1.0->spacy) (0.19.0)\n",
            "Requirement already satisfied: MarkupSafe>=2.0 in /home/bruno/.local/lib/python3.10/site-packages (from jinja2->spacy) (2.1.5)\n",
            "Requirement already satisfied: marisa-trie>=0.7.7 in /home/bruno/.local/lib/python3.10/site-packages (from language-data>=1.2->langcodes<4.0.0,>=3.2.0->spacy) (1.2.0)\n",
            "Requirement already satisfied: pygments<3.0.0,>=2.13.0 in /home/bruno/.local/lib/python3.10/site-packages (from rich>=10.11.0->typer<1.0.0,>=0.3.0->spacy) (2.18.0)\n",
            "Requirement already satisfied: markdown-it-py>=2.2.0 in /home/bruno/.local/lib/python3.10/site-packages (from rich>=10.11.0->typer<1.0.0,>=0.3.0->spacy) (3.0.0)\n",
            "Requirement already satisfied: wrapt in /home/bruno/.local/lib/python3.10/site-packages (from smart-open<8.0.0,>=5.2.1->weasel<0.5.0,>=0.1.0->spacy) (1.16.0)\n",
            "Requirement already satisfied: mdurl~=0.1 in /home/bruno/.local/lib/python3.10/site-packages (from markdown-it-py>=2.2.0->rich>=10.11.0->typer<1.0.0,>=0.3.0->spacy) (0.1.2)\n"
          ]
        }
      ],
      "source": [
        "!pip install datasets huggingface_hub torch matplotlib scikit-learn\n",
        "!pip install transformers --upgrade\n",
        "!pip install accelerate>0.21.0\n",
        "#!pip install nltk\n",
        "!pip install spacy # usando spacy tendo envista que nltk não está funcionando (LookupError)\n",
        "\n",
        "import os\n",
        "\n",
        "# Desativa o paralelismo para evitar deadlocks\n",
        "os.environ[\"TOKENIZERS_PARALLELISM\"] = \"false\"\n",
        "\n",
        "# configuração para não exibir os warnings\n",
        "import warnings\n",
        "warnings.filterwarnings(\"ignore\")\n",
        "\n",
        "# Imports necessários\n",
        "import pandas as pd\n",
        "import numpy as np\n",
        "import pickle\n",
        "import torch\n",
        "import matplotlib.pyplot as plt\n",
        "from sklearn.preprocessing import StandardScaler\n",
        "from sklearn.preprocessing import MaxAbsScaler\n",
        "from sklearn.preprocessing import MinMaxScaler\n",
        "from sklearn.model_selection import train_test_split\n",
        "from sklearn.model_selection import StratifiedKFold\n",
        "from sklearn.model_selection import cross_val_score\n",
        "from sklearn.model_selection import GridSearchCV\n",
        "from sklearn.metrics import accuracy_score\n",
        "from sklearn.pipeline import Pipeline\n",
        "from sklearn.linear_model import LogisticRegression\n",
        "from sklearn.tree import DecisionTreeClassifier\n",
        "from sklearn.neighbors import KNeighborsClassifier\n",
        "from sklearn.naive_bayes import GaussianNB, MultinomialNB, BernoulliNB\n",
        "from sklearn.svm import SVC\n",
        "from sklearn.ensemble import BaggingClassifier\n",
        "from sklearn.ensemble import RandomForestClassifier\n",
        "from sklearn.ensemble import ExtraTreesClassifier\n",
        "from sklearn.ensemble import VotingClassifier\n",
        "from sklearn.ensemble import AdaBoostClassifier\n",
        "from sklearn.ensemble import GradientBoostingClassifier\n",
        "#import nltk\n",
        "#nltk_data_path = os.path.abspath('./nltk_data')\n",
        "#nltk.data.path.append(nltk_data_path)\n",
        "#nltk.download('stopwords', download_dir=nltk_data_path, force=True)\n",
        "#nltk.download('punkt', download_dir=nltk_data_path, force=True)\n",
        "#from nltk.corpus import stopwords\n",
        "#from nltk.tokenize import word_tokenize\n",
        "\n",
        "import spacy\n",
        "from nltk.stem import SnowballStemmer\n",
        "from sklearn.feature_extraction.text import CountVectorizer\n",
        "\n",
        "from transformers import AutoTokenizer, AutoModelForSequenceClassification, DataCollatorWithPadding, TrainingArguments, Trainer\n",
        "\n",
        "import datasets\n",
        "from datasets import Dataset, DatasetDict, load_metric\n"
      ]
    },
    {
      "cell_type": "markdown",
      "metadata": {
        "id": "IbHaMJwzbHYa"
      },
      "source": [
        "### Dataset\n",
        "\n",
        "O dataset contém avaliações e notas dos 10 aplicativos mais populares na categoria de comida e bebidas, disponíveis na Google Play Store do Brasil. As notas variam de 1 a 5, e a ideia é fazer a seguinte classificação:\n",
        "\n",
        "* 1 e 2: Avaliações Negativas\n",
        "* 4 e 5: Avaliações Positivas\n",
        "* As avaliações neutras (3) serão descartadas para simplificação do problema.\n",
        "\n",
        "### Descrição das colunas:\n",
        "\n",
        "* reviewId: ID da avaliação\n",
        "* userName: Nome de usuário\n",
        "* userImage: Avatar do usuário\n",
        "* content: Texto da avaliação\n",
        "* score: Nota atribuída na avaliação\n",
        "* thumbsUpCount: Número de curtidas\n",
        "* reviewCreatedVersion: Versão do aplicativo no momento da avaliação\n",
        "* at: Data da avaliação\n",
        "* replyContent: Texto da resposta à avaliação\n",
        "* repliedAt: Data da resposta à avaliação\n",
        "* appVersion: Versão do aplicativo\n",
        "* sortOrder: Ordem de classificação\n",
        "* appId: ID do aplicativo\n",
        "\n",
        "\n",
        "\n"
      ]
    },
    {
      "cell_type": "markdown",
      "metadata": {},
      "source": [
        "### Carregando o dataset"
      ]
    },
    {
      "cell_type": "code",
      "execution_count": 2,
      "metadata": {
        "colab": {
          "base_uri": "https://localhost:8080/",
          "height": 556
        },
        "id": "9Yi_l-V5j9ia",
        "outputId": "f8f33e95-67e4-416b-cd3c-4854cbfcb86a"
      },
      "outputs": [
        {
          "data": {
            "text/html": [
              "<div>\n",
              "<style scoped>\n",
              "    .dataframe tbody tr th:only-of-type {\n",
              "        vertical-align: middle;\n",
              "    }\n",
              "\n",
              "    .dataframe tbody tr th {\n",
              "        vertical-align: top;\n",
              "    }\n",
              "\n",
              "    .dataframe thead th {\n",
              "        text-align: right;\n",
              "    }\n",
              "</style>\n",
              "<table border=\"1\" class=\"dataframe\">\n",
              "  <thead>\n",
              "    <tr style=\"text-align: right;\">\n",
              "      <th></th>\n",
              "      <th>reviewId</th>\n",
              "      <th>userName</th>\n",
              "      <th>userImage</th>\n",
              "      <th>content</th>\n",
              "      <th>score</th>\n",
              "      <th>thumbsUpCount</th>\n",
              "      <th>reviewCreatedVersion</th>\n",
              "      <th>at</th>\n",
              "      <th>replyContent</th>\n",
              "      <th>repliedAt</th>\n",
              "      <th>appVersion</th>\n",
              "      <th>sortOrder</th>\n",
              "      <th>appId</th>\n",
              "    </tr>\n",
              "  </thead>\n",
              "  <tbody>\n",
              "    <tr>\n",
              "      <th>0</th>\n",
              "      <td>9b2090fb-2acf-4ade-bff4-1bd65f714e89</td>\n",
              "      <td>Julia Lopes Ogleari</td>\n",
              "      <td>https://play-lh.googleusercontent.com/a-/ALV-U...</td>\n",
              "      <td>Só decepções. As últimas vezes que pedi com es...</td>\n",
              "      <td>1</td>\n",
              "      <td>49</td>\n",
              "      <td>10.32.0</td>\n",
              "      <td>2024-08-27 00:32:41</td>\n",
              "      <td>NaN</td>\n",
              "      <td>NaN</td>\n",
              "      <td>10.32.0</td>\n",
              "      <td>most_relevant</td>\n",
              "      <td>br.com.brainweb.ifood</td>\n",
              "    </tr>\n",
              "    <tr>\n",
              "      <th>1</th>\n",
              "      <td>fb9bccfd-573d-47cf-aafe-fbeafe53f55b</td>\n",
              "      <td>David Paul</td>\n",
              "      <td>https://play-lh.googleusercontent.com/a-/ALV-U...</td>\n",
              "      <td>Era muito bom quando a preocupação era atender...</td>\n",
              "      <td>1</td>\n",
              "      <td>5</td>\n",
              "      <td>10.27.0</td>\n",
              "      <td>2024-08-28 01:25:52</td>\n",
              "      <td>NaN</td>\n",
              "      <td>NaN</td>\n",
              "      <td>10.27.0</td>\n",
              "      <td>most_relevant</td>\n",
              "      <td>br.com.brainweb.ifood</td>\n",
              "    </tr>\n",
              "    <tr>\n",
              "      <th>2</th>\n",
              "      <td>a8da45e3-66c6-44b2-8ff3-905c9c266914</td>\n",
              "      <td>Larissa Keity</td>\n",
              "      <td>https://play-lh.googleusercontent.com/a-/ALV-U...</td>\n",
              "      <td>É frustrante vc fazer um pedido num restaurant...</td>\n",
              "      <td>1</td>\n",
              "      <td>8</td>\n",
              "      <td>10.32.0</td>\n",
              "      <td>2024-08-28 02:55:34</td>\n",
              "      <td>NaN</td>\n",
              "      <td>NaN</td>\n",
              "      <td>10.32.0</td>\n",
              "      <td>most_relevant</td>\n",
              "      <td>br.com.brainweb.ifood</td>\n",
              "    </tr>\n",
              "    <tr>\n",
              "      <th>3</th>\n",
              "      <td>edeb5bbd-7d01-4c02-88b2-c65c3b82373b</td>\n",
              "      <td>Lorenna Petri</td>\n",
              "      <td>https://play-lh.googleusercontent.com/a-/ALV-U...</td>\n",
              "      <td>O processo de cancelamento é dificultado para ...</td>\n",
              "      <td>1</td>\n",
              "      <td>201</td>\n",
              "      <td>10.28.0</td>\n",
              "      <td>2024-07-30 11:40:22</td>\n",
              "      <td>NaN</td>\n",
              "      <td>NaN</td>\n",
              "      <td>10.28.0</td>\n",
              "      <td>most_relevant</td>\n",
              "      <td>br.com.brainweb.ifood</td>\n",
              "    </tr>\n",
              "    <tr>\n",
              "      <th>4</th>\n",
              "      <td>1fa4b8eb-9423-4f8e-9ba7-3be0d5805f96</td>\n",
              "      <td>Jordana Araujo</td>\n",
              "      <td>https://play-lh.googleusercontent.com/a-/ALV-U...</td>\n",
              "      <td>Eu não consigo mais usar o app. Instalei ele d...</td>\n",
              "      <td>1</td>\n",
              "      <td>389</td>\n",
              "      <td>10.28.0</td>\n",
              "      <td>2024-08-03 16:26:19</td>\n",
              "      <td>NaN</td>\n",
              "      <td>NaN</td>\n",
              "      <td>10.28.0</td>\n",
              "      <td>most_relevant</td>\n",
              "      <td>br.com.brainweb.ifood</td>\n",
              "    </tr>\n",
              "  </tbody>\n",
              "</table>\n",
              "</div>"
            ],
            "text/plain": [
              "                               reviewId             userName  \\\n",
              "0  9b2090fb-2acf-4ade-bff4-1bd65f714e89  Julia Lopes Ogleari   \n",
              "1  fb9bccfd-573d-47cf-aafe-fbeafe53f55b           David Paul   \n",
              "2  a8da45e3-66c6-44b2-8ff3-905c9c266914        Larissa Keity   \n",
              "3  edeb5bbd-7d01-4c02-88b2-c65c3b82373b        Lorenna Petri   \n",
              "4  1fa4b8eb-9423-4f8e-9ba7-3be0d5805f96       Jordana Araujo   \n",
              "\n",
              "                                           userImage  \\\n",
              "0  https://play-lh.googleusercontent.com/a-/ALV-U...   \n",
              "1  https://play-lh.googleusercontent.com/a-/ALV-U...   \n",
              "2  https://play-lh.googleusercontent.com/a-/ALV-U...   \n",
              "3  https://play-lh.googleusercontent.com/a-/ALV-U...   \n",
              "4  https://play-lh.googleusercontent.com/a-/ALV-U...   \n",
              "\n",
              "                                             content  score  thumbsUpCount  \\\n",
              "0  Só decepções. As últimas vezes que pedi com es...      1             49   \n",
              "1  Era muito bom quando a preocupação era atender...      1              5   \n",
              "2  É frustrante vc fazer um pedido num restaurant...      1              8   \n",
              "3  O processo de cancelamento é dificultado para ...      1            201   \n",
              "4  Eu não consigo mais usar o app. Instalei ele d...      1            389   \n",
              "\n",
              "  reviewCreatedVersion                   at replyContent repliedAt appVersion  \\\n",
              "0              10.32.0  2024-08-27 00:32:41          NaN       NaN    10.32.0   \n",
              "1              10.27.0  2024-08-28 01:25:52          NaN       NaN    10.27.0   \n",
              "2              10.32.0  2024-08-28 02:55:34          NaN       NaN    10.32.0   \n",
              "3              10.28.0  2024-07-30 11:40:22          NaN       NaN    10.28.0   \n",
              "4              10.28.0  2024-08-03 16:26:19          NaN       NaN    10.28.0   \n",
              "\n",
              "       sortOrder                  appId  \n",
              "0  most_relevant  br.com.brainweb.ifood  \n",
              "1  most_relevant  br.com.brainweb.ifood  \n",
              "2  most_relevant  br.com.brainweb.ifood  \n",
              "3  most_relevant  br.com.brainweb.ifood  \n",
              "4  most_relevant  br.com.brainweb.ifood  "
            ]
          },
          "execution_count": 2,
          "metadata": {},
          "output_type": "execute_result"
        }
      ],
      "source": [
        "# Informa a URL de importação do dataset\n",
        "#url = \"https://raw.githubusercontent.com/bpbastos/sentiment-analysis-ml-api/main/android_app_reviews.csv?token=GHSAT0AAAAAACSFFAPRMUHD2ZIBMDIWUJSWZWRHYEQ\"\n",
        "url = \"../data/android_app_reviews.csv\"\n",
        "\n",
        "# Lê o arquivo\n",
        "dataset = pd.read_csv(url, delimiter=',', encoding='utf-8')\n",
        "\n",
        "# Diminiu o dataset para 1000 instâncias\n",
        "#n_samples_per_class = 500\n",
        "#n_samples_score_3 = n_samples_per_class * 2\n",
        "\n",
        "# Amostra 500 instâncias de cada classe, exceto para o score 3, onde amostra 1000 instâncias\n",
        "#dataset_others = dataset[dataset['score'] != 3].groupby('score').sample(n=n_samples_per_class, random_state=42)\n",
        "#dataset_score_3 = dataset[dataset['score'] == 3].sample(n=n_samples_score_3, random_state=42)\n",
        "\n",
        "# Concatena os datasets\n",
        "#dataset = pd.concat([dataset_others, dataset_score_3])\n",
        "\n",
        "#Desprezando os comentários com score 3 (neutro)\n",
        "dataset = dataset[dataset['score'] != 3]\n",
        "\n",
        "#\n",
        "dataset.head()"
      ]
    },
    {
      "cell_type": "code",
      "execution_count": 3,
      "metadata": {
        "colab": {
          "base_uri": "https://localhost:8080/"
        },
        "id": "O_IrBlSkmtVo",
        "outputId": "2e0d0c31-575f-4ffc-ec88-2c86e796cf1b"
      },
      "outputs": [
        {
          "name": "stdout",
          "output_type": "stream",
          "text": [
            "<class 'pandas.core.frame.DataFrame'>\n",
            "Index: 8000 entries, 0 to 11999\n",
            "Data columns (total 13 columns):\n",
            " #   Column                Non-Null Count  Dtype \n",
            "---  ------                --------------  ----- \n",
            " 0   reviewId              8000 non-null   object\n",
            " 1   userName              8000 non-null   object\n",
            " 2   userImage             8000 non-null   object\n",
            " 3   content               8000 non-null   object\n",
            " 4   score                 8000 non-null   int64 \n",
            " 5   thumbsUpCount         8000 non-null   int64 \n",
            " 6   reviewCreatedVersion  7244 non-null   object\n",
            " 7   at                    8000 non-null   object\n",
            " 8   replyContent          3300 non-null   object\n",
            " 9   repliedAt             3300 non-null   object\n",
            " 10  appVersion            7244 non-null   object\n",
            " 11  sortOrder             8000 non-null   object\n",
            " 12  appId                 8000 non-null   object\n",
            "dtypes: int64(2), object(11)\n",
            "memory usage: 875.0+ KB\n"
          ]
        }
      ],
      "source": [
        "# Informações gerais sobre o dataset\n",
        "dataset.info()"
      ]
    },
    {
      "cell_type": "markdown",
      "metadata": {
        "id": "I4y9SvaoVF7s"
      },
      "source": [
        "### Pré-processamento\n",
        "Distribuição dos reviews por nota"
      ]
    },
    {
      "cell_type": "code",
      "execution_count": 4,
      "metadata": {
        "colab": {
          "base_uri": "https://localhost:8080/",
          "height": 472
        },
        "id": "zvLT3KUNVCUa",
        "outputId": "46bd4a78-e0c6-45bd-9b74-66b8d9356c7a"
      },
      "outputs": [
        {
          "data": {
            "image/png": "[encoded data removed]",
            "text/plain": [
              "<Figure size 640x480 with 1 Axes>"
            ]
          },
          "metadata": {},
          "output_type": "display_data"
        }
      ],
      "source": [
        "# Calcula a contagem de cada valor de 'score'\n",
        "score_counts = dataset['score'].value_counts()\n",
        "\n",
        "# Histograma do número de reviews de acordo com a nota:\n",
        "plt.bar(score_counts.index, score_counts.values)\n",
        "plt.xlabel('Nota')\n",
        "plt.ylabel('Quantidade')\n",
        "plt.title('Distribuição dos reviews por nota')\n",
        "plt.show()"
      ]
    },
    {
      "cell_type": "markdown",
      "metadata": {
        "id": "fRXqQIQXWvvC"
      },
      "source": [
        "Balanceamento do dataset"
      ]
    },
    {
      "cell_type": "code",
      "execution_count": 5,
      "metadata": {
        "id": "EciOwvQ5mwon"
      },
      "outputs": [],
      "source": [
        "def to_sentiment(rating):\n",
        "  rating = int(rating)\n",
        "  if rating <= 2:\n",
        "    return 0\n",
        "  elif rating > 3:\n",
        "    return 1\n",
        "\n",
        "dataset['sentiment'] = dataset.score.apply(to_sentiment)"
      ]
    },
    {
      "cell_type": "code",
      "execution_count": 6,
      "metadata": {
        "colab": {
          "base_uri": "https://localhost:8080/",
          "height": 472
        },
        "id": "M2HUgb-XXMiX",
        "outputId": "38ae4bb5-1294-49ae-c746-72cf808e8ec5"
      },
      "outputs": [
        {
          "data": {
            "image/png": "[encoded data removed]",
            "text/plain": [
              "<Figure size 640x480 with 1 Axes>"
            ]
          },
          "metadata": {},
          "output_type": "display_data"
        }
      ],
      "source": [
        "class_names = ['Negativo', 'Positivo']\n",
        "sentiment_counts = dataset['sentiment'].value_counts()\n",
        "plt.bar(class_names, sentiment_counts.values)\n",
        "plt.xlabel('Sentimento')\n",
        "plt.ylabel('Quantidade')\n",
        "plt.title('Distribuição dos sentimentos dos reviews')\n",
        "plt.show()\n"
      ]
    },
    {
      "cell_type": "markdown",
      "metadata": {},
      "source": [
        "### Limpeza e Vetorização do texto"
      ]
    },
    {
      "cell_type": "markdown",
      "metadata": {},
      "source": [
        "Adicionando novas stop words ao dicionário da biblioteca spacy"
      ]
    },
    {
      "cell_type": "code",
      "execution_count": 7,
      "metadata": {},
      "outputs": [],
      "source": [
        "# Execute python -m spacy download pt_core_news_sm para download do modelo em português\n",
        "\n",
        "# Stop words em português\n",
        "novas_stop_words = [ 'a', 'à', 'adeus', 'agora', 'aí', 'ainda', 'além', 'algo', 'alguém', 'algum', 'alguma', 'algumas', 'alguns', 'ali', 'ampla', 'amplas', 'amplo', 'amplos', 'ano', 'anos', 'ante', 'antes', 'ao', 'aos', 'apenas', 'apoio', 'após', 'aquela', 'aquelas', 'aquele', 'aqueles', 'aqui', 'aquilo', 'área', 'as', 'às', 'assim', 'até', 'atrás', 'através', 'baixo', 'bastante', 'bem', 'boa', 'boas', 'bom', 'bons', 'breve', 'cá', 'cada', 'catorze', 'cedo', 'cento', 'certamente', 'certeza', 'cima', 'cinco', 'coisa', 'coisas', 'com', 'como', 'conselho', 'contra', 'contudo', 'custa', 'da', 'dá', 'dão', 'daquela', 'daquelas', 'daquele', 'daqueles', 'dar', 'das', 'de', 'debaixo', 'dela', 'delas', 'dele', 'deles', 'demais', 'dentro', 'depois', 'desde', 'dessa', 'dessas', 'desse', 'desses', 'desta', 'destas', 'deste', 'destes', 'deve', 'devem', 'devendo', 'dever', 'deverá', 'deverão', 'deveria', 'deveriam', 'devia', 'deviam', 'dez', 'dezanove', 'dezasseis', 'dezassete', 'dezoito', 'dia', 'diante', 'disse', 'disso', 'disto', 'dito', 'diz', 'dizem', 'dizer', 'do', 'dois', 'dos', 'doze', 'duas', 'dúvida', 'e', 'é', 'ela', 'elas', 'ele', 'eles', 'em', 'embora', 'enquanto', 'entre', 'era', 'eram', 'éramos', 'és', 'essa', 'essas', 'esse', 'esses', 'esta', 'está', 'estamos', 'estão', 'estar', 'estas', 'estás', 'estava', 'estavam', 'estávamos', 'este', 'esteja', 'estejam', 'estejamos', 'estes', 'esteve', 'estive', 'estivemos', 'estiver', 'estivera', 'estiveram', 'estivéramos', 'estiverem', 'estivermos', 'estivesse', 'estivessem', 'estivéssemos', 'estiveste', 'estivestes', 'estou', 'etc', 'eu', 'exemplo', 'faço', 'falta', 'favor', 'faz', 'fazeis', 'fazem', 'fazemos', 'fazendo', 'fazer', 'fazes', 'feita', 'feitas', 'feito', 'feitos', 'fez', 'fim', 'final', 'foi', 'fomos', 'for', 'fora', 'foram', 'fôramos', 'forem', 'forma', 'formos', 'fosse', 'fossem', 'fôssemos', 'foste', 'fostes', 'fui', 'geral', 'grande', 'grandes', 'grupo', 'há', 'haja', 'hajam', 'hajamos', 'hão', 'havemos', 'havia', 'hei', 'hoje', 'hora', 'horas', 'houve', 'houvemos', 'houver', 'houvera', 'houverá', 'houveram', 'houvéramos', 'houverão', 'houverei', 'houverem', 'houveremos', 'houveria', 'houveriam', 'houveríamos', 'houvermos', 'houvesse', 'houvessem', 'houvéssemos', 'isso', 'isto', 'já', 'la', 'lá', 'lado', 'lhe', 'lhes', 'lo', 'local', 'logo', 'longe', 'lugar', 'maior', 'maioria', 'mais', 'mal', 'mas', 'máximo', 'me', 'meio', 'menor', 'menos', 'mês', 'meses', 'mesma', 'mesmas', 'mesmo', 'mesmos', 'meu', 'meus', 'mil', 'minha', 'minhas', 'momento', 'muita', 'muitas', 'muito', 'muitos', 'na', 'nada', 'não', 'naquela', 'naquelas', 'naquele', 'naqueles', 'nas', 'nem', 'nenhum', 'nenhuma', 'nessa', 'nessas', 'nesse', 'nesses', 'nesta', 'nestas', 'neste', 'nestes', 'ninguém', 'nível', 'no', 'noite', 'nome', 'nos', 'nós', 'nossa', 'nossas', 'nosso', 'nossos', 'nova', 'novas', 'nove', 'novo', 'novos', 'num', 'numa', 'número', 'nunca', 'o', 'obra', 'obrigada', 'obrigado', 'oitava', 'oitavo', 'oito', 'onde', 'ontem', 'onze', 'os', 'ou', 'outra', 'outras', 'outro', 'outros', 'para', 'parece', 'parte', 'partir', 'paucas', 'pela', 'pelas', 'pelo', 'pelos', 'pequena', 'pequenas', 'pequeno', 'pequenos', 'per', 'perante', 'perto', 'pode', 'pude', 'pôde', 'podem', 'podendo', 'poder', 'poderia', 'poderiam', 'podia', 'podiam', 'põe', 'põem', 'pois', 'ponto', 'pontos', 'por', 'porém', 'porque', 'porquê', 'posição', 'possível', 'possivelmente', 'posso', 'pouca', 'poucas', 'pouco', 'poucos', 'primeira', 'primeiras', 'primeiro', 'primeiros', 'própria', 'próprias', 'próprio', 'próprios', 'próxima', 'próximas', 'próximo', 'próximos', 'pude', 'puderam', 'quais', 'quáis', 'qual', 'quando', 'quanto', 'quantos', 'quarta', 'quarto', 'quatro', 'que', 'quê', 'quem', 'quer', 'quereis', 'querem', 'queremas', 'queres', 'quero', 'questão', 'quinta', 'quinto', 'quinze', 'relação', 'sabe', 'sabem', 'são', 'se', 'segunda', 'segundo', 'sei', 'seis', 'seja', 'sejam', 'sejamos', 'sem', 'sempre', 'sendo', 'ser', 'será', 'serão', 'serei', 'seremos', 'seria', 'seriam', 'seríamos', 'sete', 'sétima', 'sétimo', 'seu', 'seus', 'sexta', 'sexto', 'si', 'sido', 'sim', 'sistema', 'só', 'sob', 'sobre', 'sois', 'somos', 'sou', 'sua', 'suas', 'tal', 'talvez', 'também', 'tampouco', 'tanta', 'tantas', 'tanto', 'tão', 'tarde', 'te', 'tem', 'tém', 'têm', 'temos', 'tendes', 'tendo', 'tenha', 'tenham', 'tenhamos', 'tenho', 'tens', 'ter', 'terá', 'terão', 'terceira', 'terceiro', 'terei', 'teremos', 'teria', 'teriam', 'teríamos', 'teu', 'teus', 'teve', 'ti', 'tido', 'tinha', 'tinham', 'tínhamos', 'tive', 'tivemos', 'tiver', 'tivera', 'tiveram', 'tivéramos', 'tiverem', 'tivermos', 'tivesse', 'tivessem', 'tivéssemos', 'tiveste', 'tivestes', 'toda', 'todas', 'todavia', 'todo', 'todos', 'trabalho', 'três', 'treze', 'tu', 'tua', 'tuas', 'tudo', 'última', 'últimas', 'último', 'últimos', 'um', 'uma', 'umas', 'uns', 'vai', 'vais', 'vão', 'vários', 'vem', 'vêm', 'vendo', 'vens', 'ver', 'vez', 'vezes', 'viagem', 'vindo', 'vinte', 'vir', 'você', 'vocês', 'vos', 'vós', 'vossa', 'vossas', 'vosso', 'vossos', 'zero', '1', '2', '3', '4', '5', '6', '7', '8', '9', '0', '_' ]\n",
        "\n",
        "# Carregue o modelo em português\n",
        "nlp = spacy.load(\"pt_core_news_sm\")\n",
        "\n",
        "# Adiciona cada palavra da lista às stop words do spaCy\n",
        "for word in novas_stop_words:\n",
        "    nlp.Defaults.stop_words.add(word)\n",
        "    # Marca como stop word no vocabulário\n",
        "    nlp.vocab[word].is_stop = True"
      ]
    },
    {
      "cell_type": "markdown",
      "metadata": {},
      "source": [
        "Limpando, removendo stop words e lematizando o texto "
      ]
    },
    {
      "cell_type": "code",
      "execution_count": 8,
      "metadata": {},
      "outputs": [
        {
          "name": "stdout",
          "output_type": "stream",
          "text": [
            "Sem processamento: Só decepções. As últimas vezes que pedi com esse aplicativo, TODAS deram ruim com a entrega. Seja faltando itens, seja entregador que some com a comida, seja lá o que for que dá pra acontecer de errado, acontece. Serviço está horrivrl e por mais que dêem o reembolso, ainda não vale a pena o stress. Desinstalando sem nenhum pesar. Recomendo a todos que façam o mesmo pois a tendência é piorar.\n",
            "Com processamento: decepção pedir aplicativo dar ruim entregar faltar item entregador some comer pra acontecer errar acontecer serviço horrivrl dêem reembolso valer pena stress desinstalar pesar recomer façam tendência piorar\n"
          ]
        }
      ],
      "source": [
        "print('Sem processamento:', dataset['content'].iloc[0])\n",
        "\n",
        "# Define a função para remover caracteres especiais\n",
        "def remove_special_characters(text):\n",
        "    return ''.join(char for char in text if char not in '!\"#$%&\\'()*+,-./:;<=>?@[\\\\]^_`{|}~')\n",
        "\n",
        "# Define a função para converter todos os caracteres para minúsculo\n",
        "def to_lowercase(text):\n",
        "    return text.lower()\n",
        "\n",
        "# Função para remover stopwords\n",
        "def remove_stopwords(text):\n",
        "    doc = nlp(text)\n",
        "    return ' '.join([token.text for token in doc if not token.is_stop])\n",
        "\n",
        "# Função para lematizar o texto\n",
        "def lemmatize_text(text):\n",
        "    doc = nlp(text)\n",
        "    return ' '.join([token.lemma_ for token in doc])\n",
        "\n",
        "def clean_text(text_list):\n",
        "    # Converte todos os elementos para strings\n",
        "    cleaned_text_list = text_list.astype(str)\n",
        "\n",
        "    # Aplica a função para remover caracteres especiais \n",
        "    cleaned_text_list = cleaned_text_list.apply(remove_special_characters)\n",
        "\n",
        "    # Aplica a função para converter todos os caracteres para minúsculo\n",
        "    cleaned_text_list = cleaned_text_list.apply(to_lowercase)\n",
        "\n",
        "    # Aplica a função para remover stopwords\n",
        "    cleaned_text_list = cleaned_text_list.apply(remove_stopwords)\n",
        "\n",
        "    # Aplica a função para lematizar o texto\n",
        "    cleaned_text_list = cleaned_text_list.apply(lemmatize_text)\n",
        "\n",
        "    return cleaned_text_list\n",
        "\n",
        "# Converte todos os elementos na coluna 'content' para strings\n",
        "cleaned_dataset = clean_text(dataset['content'])\n",
        "\n",
        "# Imprime o texto após o processamento\n",
        "print('Com processamento:', cleaned_dataset.iloc[0])"
      ]
    },
    {
      "cell_type": "markdown",
      "metadata": {},
      "source": [
        "Convertendo o texto em vetor"
      ]
    },
    {
      "cell_type": "code",
      "execution_count": 9,
      "metadata": {},
      "outputs": [],
      "source": [
        "# Separando entrada e saída\n",
        "X = cleaned_dataset  # Texto do review limpo\n",
        "y = dataset['sentiment'] # Sentimento 0(negativo)/2(negativo)\n",
        "\n",
        "# Vetorização do texto usando CountVectorizer\n",
        "vectorizer = CountVectorizer(analyzer = \"word\")\n",
        "\n",
        "# Ajuste e transformação no conjunto de treino\n",
        "X = vectorizer.fit_transform(X)"
      ]
    },
    {
      "cell_type": "markdown",
      "metadata": {
        "id": "YMoMnLn5q37D"
      },
      "source": [
        "## Modelagem\n",
        "### Sklearn"
      ]
    },
    {
      "cell_type": "markdown",
      "metadata": {},
      "source": [
        "Separação em conjunto de treino e conjunto de teste com holdout"
      ]
    },
    {
      "cell_type": "code",
      "execution_count": 10,
      "metadata": {},
      "outputs": [],
      "source": [
        "test_size = 0.20 # tamanho do conjunto de teste\n",
        "seed = 7 # semente aleatória\n",
        "\n",
        "# Dividindo os dados em conjuntos de treinamento e teste\n",
        "X_train, X_test, y_train, y_test = train_test_split(X, y,\n",
        "    test_size=test_size, shuffle=True, random_state=seed, stratify=y) # holdout com estratificação\n",
        "\n",
        "# Parâmetros e partições da validação cruzada\n",
        "scoring = 'accuracy'\n",
        "num_particoes = 10\n",
        "kfold = StratifiedKFold(n_splits=num_particoes, shuffle=True, random_state=seed) # validação cruzada com estratificação"
      ]
    },
    {
      "cell_type": "code",
      "execution_count": 11,
      "metadata": {
        "colab": {
          "base_uri": "https://localhost:8080/",
          "height": 640
        },
        "id": "s2OFEO9MrpYo",
        "outputId": "3739d0e5-d8fd-49d6-a980-0d0e17aac3b1"
      },
      "outputs": [
        {
          "name": "stdout",
          "output_type": "stream",
          "text": [
            "LR: 0.806719 (0.013018)\n",
            "KNN: 0.668281 (0.010529)\n",
            "CART: 0.763594 (0.015626)\n",
            "NB-Gaussian: 0.650000 (0.014987)\n",
            "NB-Multinomial: 0.775625 (0.016700)\n",
            "NB-Bernoulli: 0.743437 (0.017312)\n",
            "SVM: 0.802812 (0.012119)\n",
            "Bagging: 0.788750 (0.011154)\n",
            "RF: 0.819844 (0.014491)\n",
            "ET: 0.822813 (0.014892)\n",
            "Ada: 0.749844 (0.015443)\n",
            "GB: 0.755156 (0.014939)\n",
            "Voting: 0.816094 (0.007560)\n"
          ]
        },
        {
          "data": {
            "image/png": "[encoded data removed]",
            "text/plain": [
              "<Figure size 1500x1000 with 1 Axes>"
            ]
          },
          "metadata": {},
          "output_type": "display_data"
        }
      ],
      "source": [
        "np.random.seed(7) # definindo uma semente global\n",
        "\n",
        "# Lista que armazenará os modelos\n",
        "models = []\n",
        "\n",
        "# Criando os modelos e adicionando-os na lista de modelos\n",
        "models.append(('LR', LogisticRegression(max_iter=200)))\n",
        "models.append(('KNN', KNeighborsClassifier()))\n",
        "models.append(('CART', DecisionTreeClassifier()))\n",
        "models.append(('NB-Gaussian', GaussianNB()))\n",
        "models.append(('NB-Multinomial', MultinomialNB(alpha=1.0, fit_prior=True)))\n",
        "models.append(('NB-Bernoulli', BernoulliNB(alpha=1.0, fit_prior=True)))\n",
        "models.append(('SVM', SVC()))\n",
        "\n",
        "# Definindo os parâmetros do classificador base para o BaggingClassifier\n",
        "base = DecisionTreeClassifier()\n",
        "num_trees = 100\n",
        "max_features = 3\n",
        "\n",
        "# Criando os modelos para o VotingClassifier\n",
        "bases = []\n",
        "model1 = LogisticRegression(max_iter=200)\n",
        "bases.append(('logistic', model1))\n",
        "model2 = DecisionTreeClassifier()\n",
        "bases.append(('cart', model2))\n",
        "model3 = SVC()\n",
        "bases.append(('svm', model3))\n",
        "\n",
        "# Criando os ensembles e adicionando-os na lista de modelos\n",
        "models.append(('Bagging', BaggingClassifier(estimator=base, n_estimators=num_trees)))\n",
        "models.append(('RF', RandomForestClassifier(n_estimators=num_trees, max_features=max_features)))\n",
        "models.append(('ET', ExtraTreesClassifier(n_estimators=num_trees, max_features=max_features)))\n",
        "models.append(('Ada', AdaBoostClassifier(n_estimators=num_trees)))\n",
        "models.append(('GB', GradientBoostingClassifier(n_estimators=num_trees)))\n",
        "models.append(('Voting', VotingClassifier(bases)))\n",
        "\n",
        "# Listas para armazenar os resultados\n",
        "results = []\n",
        "names = []\n",
        "\n",
        "# Avaliação dos modelos\n",
        "for name, model in models:\n",
        "    if name == 'NB-Gaussian':\n",
        "        cv_results = cross_val_score(model, X_train.toarray(), y_train, cv=kfold, scoring=scoring)\n",
        "    else:\n",
        "        cv_results = cross_val_score(model, X_train, y_train, cv=kfold, scoring=scoring)    \n",
        "    results.append(cv_results)\n",
        "    names.append(name)\n",
        "    msg = \"%s: %f (%f)\" % (name, cv_results.mean(), cv_results.std())\n",
        "    print(msg)\n",
        "\n",
        "# Boxplot de comparação dos modelos\n",
        "fig = plt.figure(figsize=(15,10))\n",
        "fig.suptitle('Comparação dos Modelos')\n",
        "ax = fig.add_subplot(111)\n",
        "plt.boxplot(results)\n",
        "ax.set_xticklabels(names)\n",
        "plt.show()"
      ]
    },
    {
      "cell_type": "markdown",
      "metadata": {
        "id": "_EW05gEJrMGJ"
      },
      "source": [
        "Otimização dos hiperparâmetros"
      ]
    },
    {
      "cell_type": "code",
      "execution_count": 12,
      "metadata": {
        "colab": {
          "base_uri": "https://localhost:8080/",
          "height": 301
        },
        "id": "a69tvoKQrMih",
        "outputId": "8785dfe4-53a5-4a10-9e7f-bcbdd0bfcce9"
      },
      "outputs": [
        {
          "name": "stdout",
          "output_type": "stream",
          "text": [
            "Modelo: lr-orig - Melhor: 0.807500 usando {'lr__C': 1, 'lr__solver': 'saga'}\n",
            "Modelo: lr-padr - Melhor: 0.816563 usando {'lr__C': 0.01, 'lr__solver': 'saga'}\n",
            "Modelo: lr-norm - Melhor: 0.812187 usando {'lr__C': 1, 'lr__solver': 'saga'}\n",
            "Modelo: rf-orig - Melhor: 0.826094 usando {'rf__max_depth': None, 'rf__max_features': 'log2', 'rf__min_samples_leaf': 1, 'rf__min_samples_split': 5, 'rf__n_estimators': 200}\n",
            "Modelo: rf-padr - Melhor: 0.823906 usando {'rf__max_depth': None, 'rf__max_features': 'log2', 'rf__min_samples_leaf': 1, 'rf__min_samples_split': 5, 'rf__n_estimators': 200}\n",
            "Modelo: rf-norm - Melhor: 0.827344 usando {'rf__max_depth': None, 'rf__max_features': 'log2', 'rf__min_samples_leaf': 1, 'rf__min_samples_split': 5, 'rf__n_estimators': 200}\n",
            "Modelo: et-orig - Melhor: 0.831250 usando {'et__max_depth': None, 'et__max_features': 'log2', 'et__min_samples_leaf': 1, 'et__min_samples_split': 10, 'et__n_estimators': 200}\n",
            "Modelo: et-padr - Melhor: 0.830313 usando {'et__max_depth': None, 'et__max_features': 'log2', 'et__min_samples_leaf': 1, 'et__min_samples_split': 10, 'et__n_estimators': 200}\n",
            "Modelo: et-norm - Melhor: 0.831250 usando {'et__max_depth': None, 'et__max_features': 'log2', 'et__min_samples_leaf': 1, 'et__min_samples_split': 5, 'et__n_estimators': 200}\n",
            "Modelo: voting-orig - Melhor: 0.815313 usando {}\n",
            "Modelo: voting-padr - Melhor: 0.800937 usando {}\n",
            "Modelo: voting-norm - Melhor: 0.812031 usando {}\n"
          ]
        }
      ],
      "source": [
        "# Semente global\n",
        "np.random.seed(7)\n",
        "\n",
        "# Estimador base\n",
        "base_estimator = DecisionTreeClassifier()\n",
        "num_trees = 100\n",
        "max_features = 3\n",
        "\n",
        "# Criando os modelos para o VotingClassifier\n",
        "bases = []\n",
        "model1 = LogisticRegression(max_iter=200)\n",
        "bases.append(('logistic', model1))\n",
        "model2 = DecisionTreeClassifier()\n",
        "bases.append(('cart', model2))\n",
        "model3 = SVC()\n",
        "bases.append(('svm', model3))\n",
        "\n",
        "# Lista de modelos\n",
        "models = []\n",
        "\n",
        "# Criando os ensembles e adicionando-os na lista de modelos 4 melhores modelos\n",
        "models.append(('lr', LogisticRegression(max_iter=5000)))\n",
        "models.append(('rf', RandomForestClassifier()))\n",
        "models.append(('et', ExtraTreesClassifier()))\n",
        "models.append(('voting', VotingClassifier(estimators=bases, voting='hard')))\n",
        "\n",
        "# Definindo os componentes do pipeline\n",
        "standard_scaler = ('StandardScaler', StandardScaler(with_mean=False)) # Precisei adicionar o parametro `with_mean=False` para trabalhar com matriz esparsa (CountVectorizer)\n",
        "max_abs_scaler = ('MaxAbsScaler', MaxAbsScaler()) # Precisei alterar para o MaxAbsScaler para trabalhar com matriz esparsa (CountVectorizer)\n",
        "\n",
        "# Criação dos pipelines\n",
        "pipelines = []\n",
        "\n",
        "# Criando pipelines para cada modelo\n",
        "for name, model in models:\n",
        "    pipelines.append((name + '-orig', Pipeline(steps=[(name, model)])))\n",
        "    pipelines.append((name + '-padr', Pipeline(steps=[standard_scaler, (name, model)])))\n",
        "    pipelines.append((name + '-norm', Pipeline(steps=[max_abs_scaler, (name, model)])))\n",
        "\n",
        "param_grids = {\n",
        "    'lr': {\n",
        "        'lr__C': [0.01, 0.1, 1, 10, 100],\n",
        "        'lr__solver': ['liblinear', 'saga'],\n",
        "    },\n",
        "    'rf': {\n",
        "        'rf__n_estimators': [10, 50, 100, 200],\n",
        "        'rf__max_features': ['auto', 'sqrt', 'log2'],\n",
        "        'rf__max_depth': [None, 10, 20, 30],\n",
        "        'rf__min_samples_split': [2, 5, 10],\n",
        "        'rf__min_samples_leaf': [1, 2, 4]\n",
        "    },    \n",
        "    'et': {\n",
        "        'et__n_estimators': [10, 50, 100, 200],\n",
        "        'et__max_features': ['auto', 'sqrt', 'log2'],\n",
        "        'et__max_depth': [None, 10, 20, 30],\n",
        "        'et__min_samples_split': [2, 5, 10],\n",
        "        'et__min_samples_leaf': [1, 2, 4],\n",
        "    },\n",
        "    'voting': {\n",
        "        # Para VotingClassifier, geralmente não há hiperparâmetros para ajustar diretamente\n",
        "        # Ajustar os hiperparâmetros dos estimadores base individualmente se necessário\n",
        "    }    \n",
        "}\n",
        "\n",
        "# Executa o GridSearchCV para cada pipeline\n",
        "for name, pipeline in pipelines:\n",
        "    model_type = name.split('-')[0]\n",
        "    param_grid = param_grids[model_type]\n",
        "    grid = GridSearchCV(estimator=pipeline, param_grid=param_grid, scoring=scoring, cv=kfold, n_jobs=-1) #  n_jobs=-1 usa todos os núcleos do processador\n",
        "    grid.fit(X_train, y_train) \n",
        "    # Imprimindo a melhor configuração\n",
        "    print(\"Modelo: %s - Melhor: %f usando %s\" % (name, grid.best_score_, grid.best_params_))"
      ]
    },
    {
      "cell_type": "markdown",
      "metadata": {},
      "source": [
        "Tuning do ExtraTreesClassifier"
      ]
    },
    {
      "cell_type": "code",
      "execution_count": 13,
      "metadata": {},
      "outputs": [
        {
          "name": "stdout",
          "output_type": "stream",
          "text": [
            "Sem tratamento de missings: et-orig - Melhor: 0.829844 usando {'et__bootstrap': False, 'et__max_depth': None, 'et__max_features': 'log2', 'et__min_samples_leaf': 1, 'et__min_samples_split': 5, 'et__n_estimators': 200}\n",
            "Sem tratamento de missings: et-padr - Melhor: 0.830937 usando {'et__bootstrap': False, 'et__max_depth': None, 'et__max_features': 'log2', 'et__min_samples_leaf': 1, 'et__min_samples_split': 10, 'et__n_estimators': 200}\n",
            "Sem tratamento de missings: et-norm - Melhor: 0.829688 usando {'et__bootstrap': False, 'et__max_depth': None, 'et__max_features': 'sqrt', 'et__min_samples_leaf': 1, 'et__min_samples_split': 5, 'et__n_estimators': 100}\n"
          ]
        }
      ],
      "source": [
        "# Tuning do ET\n",
        "\n",
        "np.random.seed(7) # definindo uma semente global para este bloco\n",
        "\n",
        "pipelines = []\n",
        "\n",
        "# Definindo os componentes do pipeline\n",
        "et = ('et', ExtraTreesClassifier())\n",
        "standard_scaler = ('StandardScaler', StandardScaler(with_mean=False))\n",
        "max_abs_scaler = ('MaxAbsScaler', MaxAbsScaler()) # Precisei alterar para o MaxAbsScaler para trabalhar com matriz esparsa (CountVectorizer)\n",
        "\n",
        "pipelines.append(('et-orig', Pipeline(steps=[et])))\n",
        "pipelines.append(('et-padr', Pipeline(steps=[standard_scaler, et])))\n",
        "pipelines.append(('et-norm', Pipeline(steps=[max_abs_scaler, et])))\n",
        "\n",
        "param_grid = {\n",
        "    'et__n_estimators': [10, 50, 100, 200],\n",
        "    'et__max_depth': [None, 10, 20, 30],    \n",
        "    'et__min_samples_split': [2, 5, 10],\n",
        "    'et__min_samples_leaf': [1, 2, 4],\n",
        "    'et__max_features': ['auto', 'sqrt', 'log2'],\n",
        "    'et__bootstrap': [True, False]\n",
        "}\n",
        "\n",
        "# Prepara e executa o GridSearchCV\n",
        "for name, model in pipelines:    \n",
        "    grid = GridSearchCV(estimator=model, param_grid=param_grid, scoring=scoring, cv=kfold, n_jobs=-1)\n",
        "    grid.fit(X_train, y_train)\n",
        "    # imprime a melhor configuração\n",
        "    print(\"Sem tratamento de missings: %s - Melhor: %f usando %s\" % (name, grid.best_score_, grid.best_params_)) "
      ]
    },
    {
      "cell_type": "markdown",
      "metadata": {},
      "source": [
        "Finalização do Modelo"
      ]
    },
    {
      "cell_type": "code",
      "execution_count": 16,
      "metadata": {},
      "outputs": [
        {
          "name": "stdout",
          "output_type": "stream",
          "text": [
            "0.858125\n"
          ]
        }
      ],
      "source": [
        "# Avaliação do modelo com o conjunto de teste\n",
        "# Melhor modelo\n",
        "# et-padr - Melhor: 0.830937 usando {'et__bootstrap': False, 'et__max_depth': None, 'et__max_features': 'log2', 'et__min_samples_leaf': 1, 'et__min_samples_split': 10, 'et__n_estimators': 200}\n",
        "\n",
        "np.random.seed(7)\n",
        "\n",
        "# Preparação do modelo\n",
        "scaler = StandardScaler(with_mean=False).fit(X_train)\n",
        "rescaledX = scaler.transform(X_train) # aplicação da normalização no conjunto de treino\n",
        "model = ExtraTreesClassifier(n_estimators=200, max_depth=None, min_samples_split=10, min_samples_leaf=1, max_features='log2', bootstrap=False) # modelo ExtraTreesClassifier\n",
        "model.fit(rescaledX, y_train) # treinamento do modelo\n",
        "\n",
        "# Estimativa da acurácia no conjunto de teste\n",
        "rescaledTestX = scaler.transform(X_test) # aplicação da normalização no conjunto de teste\n",
        "predictions = model.predict(rescaledTestX)\n",
        "print(accuracy_score(y_test, predictions))"
      ]
    },
    {
      "cell_type": "markdown",
      "metadata": {},
      "source": [
        "Rodando o modelo a partir de um pipeline com os hiperparâmetros otimizados."
      ]
    },
    {
      "cell_type": "code",
      "execution_count": 17,
      "metadata": {},
      "outputs": [
        {
          "name": "stdout",
          "output_type": "stream",
          "text": [
            "0.858125\n"
          ]
        }
      ],
      "source": [
        "np.random.seed(7)\n",
        "\n",
        "model = ExtraTreesClassifier(n_estimators=200, max_depth=None, min_samples_split=10, min_samples_leaf=1, max_features='log2', bootstrap=False) # modelo ExtraTreesClassifier\n",
        "\n",
        "pipeline = Pipeline(steps=[('StandardScaler',  StandardScaler(with_mean=False)), ('et', model)])\n",
        "\n",
        "pipeline.fit(X_train, y_train)\n",
        "predictions = pipeline.predict(X_test)\n",
        "print(accuracy_score(y_test, predictions))"
      ]
    },
    {
      "cell_type": "markdown",
      "metadata": {},
      "source": [
        "### Simulando a aplicação do modelo em dados não vistos"
      ]
    },
    {
      "cell_type": "code",
      "execution_count": 20,
      "metadata": {},
      "outputs": [
        {
          "name": "stdout",
          "output_type": "stream",
          "text": [
            "[1 1 1 1 1 0 1 0 0 0]\n"
          ]
        }
      ],
      "source": [
        "# Novos dados - não sabemos a classe!\n",
        "entrada = [\n",
        "    'Excelente app! A entrega foi super rápida, e a comida chegou quentinha. Adorei a variedade de restaurantes disponíveis. Super recomendo para quem gosta de praticidade!', # 2 (Positivo)\n",
        "    'O aplicativo é super intuitivo e fácil de usar. Encontrei meus drinks favoritos em minutos, e o pagamento foi muito simples. Perfeito para uma noite em casa!', # 2 (Positivo)\n",
        "    'O melhor app de delivery que já usei! Além das opções saudáveis, a entrega é sempre no horário e com um ótimo atendimento. Nota 10!', # 2 (Positivo)\n",
        "    'Aplicativo maravilhoso! A interface é linda e super fácil de usar. Os cupons de desconto são um bônus que faz toda a diferença! 🤑💯', # 2 (Positivo)\n",
        "    'Gostei muito do app! A função de rastreamento em tempo real da entrega é excelente. Nunca mais fiquei na dúvida sobre o horário de chegada!', # 2 (Positivo)\n",
        "    'A experiência foi frustrante. O aplicativo travou várias vezes, e meu pedido chegou errado. Além disso, o suporte ao cliente demorou muito para responder.', # 0 (Negativo)\n",
        "    'Esperava mais do serviço. A comida chegou fria e com apresentação ruim. O app tem um layout bonito, mas isso não compensa a má qualidade da entrega.', # 0 (Negativo)\n",
        "    'Péssimo! A entrega demorou quase duas horas e, quando finalmente chegou, a comida estava completamente gelada. Não recomendo. ', # 0 (Negativo)\n",
        "    'Fiquei muito decepcionado. A interface do app é confusa e difícil de navegar. Além disso, tive problemas ao tentar finalizar o pagamento. Não usarei novamente.', # 0 (Negativo)\n",
        "    'Horrível! Além de demorar, o pedido veio errado. O suporte foi inútil e não resolveu o problema. Nunca mais uso esse app! 👎😡' # 0 (Negativo)\n",
        "]\n",
        "\n",
        "cleaned_entrada = clean_text(pd.Series(entrada))\n",
        "\n",
        "X_entrada = vectorizer.transform(cleaned_entrada)\n",
        "\n",
        "# Predição de classes dos dados de entrada\n",
        "saidas = pipeline.predict(X_entrada)\n",
        "print(saidas)"
      ]
    },
    {
      "cell_type": "markdown",
      "metadata": {},
      "source": [
        "### Salvando os arquivos"
      ]
    },
    {
      "cell_type": "code",
      "execution_count": 30,
      "metadata": {},
      "outputs": [],
      "source": [
        "# Salvando o modelo\n",
        "model_filename = 'et_sentiment_classifier.pkl'\n",
        "with open(\"../models/\"+model_filename, 'wb') as file:\n",
        "    pickle.dump(model, file)\n",
        "\n",
        "# Salvando o scaler\n",
        "scaler_filename = 'standard_scaler_sentiment.pkl'\n",
        "with open(\"../scalers/\"+scaler_filename, 'wb') as file:\n",
        "    pickle.dump(scaler, file)  \n",
        "\n",
        "# Salvando o pipeline\n",
        "pipeline_filename = 'et_sentiment_pipeline.pkl'\n",
        "with open(\"../pipelines/\"+pipeline_filename, 'wb') as file:\n",
        "    pickle.dump(pipeline, file)  \n",
        "\n",
        "\n",
        "# Salvando X_test e y_test\n",
        "# Separando entrada e saída novamente sem vetorização do texto para salvar em arquivo\n",
        "X = cleaned_dataset  # Texto do review limpo\n",
        "y = dataset['sentiment'] # Sentimento 0(negativo)/2(negativo)\n",
        "\n",
        "test_size = 0.20 # tamanho do conjunto de teste\n",
        "seed = 7 # semente aleatória\n",
        "\n",
        "# Dividindo os dados em conjuntos de treinamento e teste\n",
        "X_train, X_test, y_train, y_test = train_test_split(X, y,\n",
        "    test_size=test_size, shuffle=True, random_state=seed, stratify=y) # holdout com estratificação\n",
        "\n",
        "X_test_df = pd.DataFrame(X_test, columns=dataset.columns[:-1])\n",
        "y_test_df = pd.DataFrame(y_test, columns=[dataset.columns[-1]])\n",
        "X_test_df.to_csv(\"../data/X_test_dataset_sentiment.csv\", index=False)\n",
        "y_test_df.to_csv(\"../data/y_test_dataset_sentiment.csv\", index=False)        "
      ]
    },
    {
      "cell_type": "markdown",
      "metadata": {
        "id": "2_yw4-HwRqIR"
      },
      "source": [
        "# Modelagem com utilização de modelos deep learning  \n",
        "\n",
        "### Utilizando modelos preparados para o processamento de linguagem natural e pré-treinados na língua portuguesa.\n",
        "\n",
        "### BERT é um modelo de linguagem natural que entende o contexto das palavras em uma frase de maneira bidirecional, tornando-o altamente eficaz para tarefas como análise de sentimentos. Ele é capaz de identificar nuances e sentimentos nos textos ao considerar as palavras ao redor de cada termo.\n",
        "\n",
        "### DistilBERT é uma versão compacta do BERT, que mantém sua eficácia, mas com menor tamanho e maior eficiência. Ele é ideal para análise de sentimentos em situações onde os recursos computacionais são limitados, proporcionando rapidez sem comprometer significativamente a precisão."
      ]
    },
    {
      "cell_type": "markdown",
      "metadata": {},
      "source": [
        "### Mostra informações da GPU\n",
        "\n",
        "Faz uso da GPU para agilizar o processo de treinamento e teste"
      ]
    },
    {
      "cell_type": "code",
      "execution_count": 31,
      "metadata": {},
      "outputs": [
        {
          "name": "stdout",
          "output_type": "stream",
          "text": [
            "Mon Sep  2 21:02:13 2024       \n",
            "+-----------------------------------------------------------------------------------------+\n",
            "| NVIDIA-SMI 550.40.06              Driver Version: 551.23         CUDA Version: 12.4     |\n",
            "|-----------------------------------------+------------------------+----------------------+\n",
            "| GPU  Name                 Persistence-M | Bus-Id          Disp.A | Volatile Uncorr. ECC |\n",
            "| Fan  Temp   Perf          Pwr:Usage/Cap |           Memory-Usage | GPU-Util  Compute M. |\n",
            "|                                         |                        |               MIG M. |\n",
            "|=========================================+========================+======================|\n",
            "|   0  NVIDIA GeForce RTX 3080        On  |   00000000:0A:00.0  On |                  N/A |\n",
            "|  0%   29C    P8             28W /  370W |    1532MiB /  10240MiB |      1%      Default |\n",
            "|                                         |                        |                  N/A |\n",
            "+-----------------------------------------+------------------------+----------------------+\n",
            "                                                                                         \n",
            "+-----------------------------------------------------------------------------------------+\n",
            "| Processes:                                                                              |\n",
            "|  GPU   GI   CI        PID   Type   Process name                              GPU Memory |\n",
            "|        ID   ID                                                               Usage      |\n",
            "|=========================================================================================|\n",
            "|  No running processes found                                                             |\n",
            "+-----------------------------------------------------------------------------------------+\n"
          ]
        }
      ],
      "source": [
        "# Mostra informações sobre a GPU\n",
        "!nvidia-smi"
      ]
    },
    {
      "cell_type": "markdown",
      "metadata": {},
      "source": [
        "## Pré-processamento\n",
        "\n",
        "Encontra o tamanho máximo da sequência de tokens em cada review"
      ]
    },
    {
      "cell_type": "code",
      "execution_count": 32,
      "metadata": {},
      "outputs": [],
      "source": [
        "# Carrega o tokenizer\n",
        "tokenizer = AutoTokenizer.from_pretrained('adalbertojunior/distilbert-portuguese-cased', do_lower_case=False)\n",
        "\n",
        "# Define o tamanho da sequência\n",
        "token_lens = []\n",
        "\n",
        "# Calcula o tamanho de cada sequência\n",
        "for txt in dataset['content']:\n",
        "    tokens = tokenizer(txt, max_length=512, truncation=True)\n",
        "    token_lens.append(len(tokens['input_ids']))"
      ]
    },
    {
      "cell_type": "code",
      "execution_count": 34,
      "metadata": {},
      "outputs": [
        {
          "data": {
            "image/png": "[encoded data removed]",
            "text/plain": [
              "<Figure size 640x480 with 1 Axes>"
            ]
          },
          "metadata": {},
          "output_type": "display_data"
        }
      ],
      "source": [
        "# Plota a distribuição do tamanho das sequencias\n",
        "#plt.hist(token_lens, bins=30)\n",
        "\n",
        "plt.bar(np.unique(token_lens, return_counts=True)[0], np.unique(token_lens, return_counts=True)[1])\n",
        "plt.xlabel('tokens')\n",
        "plt.ylabel('reviews')\n",
        "#plt.title('Distribuição da qtde de tokens por review')\n",
        "plt.show()"
      ]
    },
    {
      "cell_type": "code",
      "execution_count": 37,
      "metadata": {},
      "outputs": [],
      "source": [
        "# Define o tamanho máximo da sequência de tokens baseado na distribuição\n",
        "MAX_LEN = 180"
      ]
    },
    {
      "cell_type": "markdown",
      "metadata": {},
      "source": [
        "## Modelagem\n",
        "\n",
        "Modelos pré-treinados na lingua portuguesa: \n",
        "\n",
        "* distilbert-base-multilingual-cased\n",
        "* adalbertojunior/distilbert-portuguese-cased\n",
        "* neuralmindbert-base-portuguese-cased"
      ]
    },
    {
      "cell_type": "markdown",
      "metadata": {},
      "source": [
        "Separação em conjunto de treino e conjunto de teste com holdout"
      ]
    },
    {
      "cell_type": "code",
      "execution_count": 38,
      "metadata": {},
      "outputs": [],
      "source": [
        "\n",
        "test_size = 0.20 # tamanho do conjunto de teste\n",
        "seed = 7 # semente aleatória\n",
        "\n",
        "# Separando entrada e saída\n",
        "X = dataset['content']  # Texto do review limpo\n",
        "y = dataset['sentiment'] # Sentimento 0(negativo)/2(negativo)\n",
        "\n",
        "# Dividindo os dados em conjuntos de treinamento e teste\n",
        "X_train, X_test, y_train, y_test = train_test_split(X, y,\n",
        "    test_size=test_size, shuffle=True, random_state=seed, stratify=y) # holdout com estratificação\n",
        "\n",
        "# Parâmetros e partições da validação cruzada\n",
        "scoring = 'accuracy'\n",
        "num_particoes = 10\n",
        "kfold = StratifiedKFold(n_splits=num_particoes, shuffle=True, random_state=seed) # validação cruzada com estratificação\n",
        "\n"
      ]
    },
    {
      "cell_type": "markdown",
      "metadata": {},
      "source": [
        "### Treinamento e teste do modelo"
      ]
    },
    {
      "cell_type": "code",
      "execution_count": 39,
      "metadata": {},
      "outputs": [
        {
          "name": "stderr",
          "output_type": "stream",
          "text": [
            "Some weights of DistilBertForSequenceClassification were not initialized from the model checkpoint at distilbert/distilbert-base-multilingual-cased and are newly initialized: ['classifier.bias', 'classifier.weight', 'pre_classifier.bias', 'pre_classifier.weight']\n",
            "You should probably TRAIN this model on a down-stream task to be able to use it for predictions and inference.\n"
          ]
        },
        {
          "data": {
            "text/html": [
              "\n",
              "    <div>\n",
              "      \n",
              "      <progress value='8000' max='8000' style='width:300px; height:20px; vertical-align: middle;'></progress>\n",
              "      [8000/8000 08:33, Epoch 10/10]\n",
              "    </div>\n",
              "    <table border=\"1\" class=\"dataframe\">\n",
              "  <thead>\n",
              " <tr style=\"text-align: left;\">\n",
              "      <th>Epoch</th>\n",
              "      <th>Training Loss</th>\n",
              "      <th>Validation Loss</th>\n",
              "      <th>Accuracy</th>\n",
              "    </tr>\n",
              "  </thead>\n",
              "  <tbody>\n",
              "    <tr>\n",
              "      <td>1</td>\n",
              "      <td>0.439100</td>\n",
              "      <td>0.378229</td>\n",
              "      <td>0.831250</td>\n",
              "    </tr>\n",
              "    <tr>\n",
              "      <td>2</td>\n",
              "      <td>0.186200</td>\n",
              "      <td>0.427301</td>\n",
              "      <td>0.864375</td>\n",
              "    </tr>\n",
              "    <tr>\n",
              "      <td>3</td>\n",
              "      <td>0.286700</td>\n",
              "      <td>0.473729</td>\n",
              "      <td>0.876250</td>\n",
              "    </tr>\n",
              "    <tr>\n",
              "      <td>4</td>\n",
              "      <td>0.162100</td>\n",
              "      <td>0.570337</td>\n",
              "      <td>0.882500</td>\n",
              "    </tr>\n",
              "    <tr>\n",
              "      <td>5</td>\n",
              "      <td>0.339000</td>\n",
              "      <td>0.566602</td>\n",
              "      <td>0.891875</td>\n",
              "    </tr>\n",
              "    <tr>\n",
              "      <td>6</td>\n",
              "      <td>0.029800</td>\n",
              "      <td>0.760749</td>\n",
              "      <td>0.886875</td>\n",
              "    </tr>\n",
              "    <tr>\n",
              "      <td>7</td>\n",
              "      <td>0.065200</td>\n",
              "      <td>0.783295</td>\n",
              "      <td>0.891875</td>\n",
              "    </tr>\n",
              "    <tr>\n",
              "      <td>8</td>\n",
              "      <td>0.111400</td>\n",
              "      <td>0.847082</td>\n",
              "      <td>0.890000</td>\n",
              "    </tr>\n",
              "    <tr>\n",
              "      <td>9</td>\n",
              "      <td>0.001400</td>\n",
              "      <td>0.885558</td>\n",
              "      <td>0.891875</td>\n",
              "    </tr>\n",
              "    <tr>\n",
              "      <td>10</td>\n",
              "      <td>0.001000</td>\n",
              "      <td>0.908087</td>\n",
              "      <td>0.891875</td>\n",
              "    </tr>\n",
              "  </tbody>\n",
              "</table><p>"
            ],
            "text/plain": [
              "<IPython.core.display.HTML object>"
            ]
          },
          "metadata": {},
          "output_type": "display_data"
        },
        {
          "data": {
            "text/html": [
              "\n",
              "    <div>\n",
              "      \n",
              "      <progress value='200' max='200' style='width:300px; height:20px; vertical-align: middle;'></progress>\n",
              "      [200/200 00:02]\n",
              "    </div>\n",
              "    "
            ],
            "text/plain": [
              "<IPython.core.display.HTML object>"
            ]
          },
          "metadata": {},
          "output_type": "display_data"
        },
        {
          "name": "stdout",
          "output_type": "stream",
          "text": [
            "Model: distilbert/distilbert-base-multilingual-cased, Accuracy: 0.891875\n"
          ]
        },
        {
          "name": "stderr",
          "output_type": "stream",
          "text": [
            "Some weights of BertForSequenceClassification were not initialized from the model checkpoint at adalbertojunior/distilbert-portuguese-cased and are newly initialized: ['classifier.bias', 'classifier.weight']\n",
            "You should probably TRAIN this model on a down-stream task to be able to use it for predictions and inference.\n"
          ]
        },
        {
          "data": {
            "text/html": [
              "\n",
              "    <div>\n",
              "      \n",
              "      <progress value='8000' max='8000' style='width:300px; height:20px; vertical-align: middle;'></progress>\n",
              "      [8000/8000 06:44, Epoch 10/10]\n",
              "    </div>\n",
              "    <table border=\"1\" class=\"dataframe\">\n",
              "  <thead>\n",
              " <tr style=\"text-align: left;\">\n",
              "      <th>Epoch</th>\n",
              "      <th>Training Loss</th>\n",
              "      <th>Validation Loss</th>\n",
              "      <th>Accuracy</th>\n",
              "    </tr>\n",
              "  </thead>\n",
              "  <tbody>\n",
              "    <tr>\n",
              "      <td>1</td>\n",
              "      <td>0.355700</td>\n",
              "      <td>0.308503</td>\n",
              "      <td>0.872500</td>\n",
              "    </tr>\n",
              "    <tr>\n",
              "      <td>2</td>\n",
              "      <td>0.232700</td>\n",
              "      <td>0.401414</td>\n",
              "      <td>0.880000</td>\n",
              "    </tr>\n",
              "    <tr>\n",
              "      <td>3</td>\n",
              "      <td>0.113400</td>\n",
              "      <td>0.513453</td>\n",
              "      <td>0.893125</td>\n",
              "    </tr>\n",
              "    <tr>\n",
              "      <td>4</td>\n",
              "      <td>0.001700</td>\n",
              "      <td>0.602968</td>\n",
              "      <td>0.895000</td>\n",
              "    </tr>\n",
              "    <tr>\n",
              "      <td>5</td>\n",
              "      <td>0.195400</td>\n",
              "      <td>0.601844</td>\n",
              "      <td>0.900000</td>\n",
              "    </tr>\n",
              "    <tr>\n",
              "      <td>6</td>\n",
              "      <td>0.001000</td>\n",
              "      <td>0.652630</td>\n",
              "      <td>0.902500</td>\n",
              "    </tr>\n",
              "    <tr>\n",
              "      <td>7</td>\n",
              "      <td>0.033600</td>\n",
              "      <td>0.744351</td>\n",
              "      <td>0.896875</td>\n",
              "    </tr>\n",
              "    <tr>\n",
              "      <td>8</td>\n",
              "      <td>0.001600</td>\n",
              "      <td>0.789487</td>\n",
              "      <td>0.903750</td>\n",
              "    </tr>\n",
              "    <tr>\n",
              "      <td>9</td>\n",
              "      <td>0.001700</td>\n",
              "      <td>0.827891</td>\n",
              "      <td>0.902500</td>\n",
              "    </tr>\n",
              "    <tr>\n",
              "      <td>10</td>\n",
              "      <td>0.001500</td>\n",
              "      <td>0.864918</td>\n",
              "      <td>0.903125</td>\n",
              "    </tr>\n",
              "  </tbody>\n",
              "</table><p>"
            ],
            "text/plain": [
              "<IPython.core.display.HTML object>"
            ]
          },
          "metadata": {},
          "output_type": "display_data"
        },
        {
          "data": {
            "text/html": [
              "\n",
              "    <div>\n",
              "      \n",
              "      <progress value='200' max='200' style='width:300px; height:20px; vertical-align: middle;'></progress>\n",
              "      [200/200 00:02]\n",
              "    </div>\n",
              "    "
            ],
            "text/plain": [
              "<IPython.core.display.HTML object>"
            ]
          },
          "metadata": {},
          "output_type": "display_data"
        },
        {
          "name": "stdout",
          "output_type": "stream",
          "text": [
            "Model: adalbertojunior/distilbert-portuguese-cased, Accuracy: 0.903125\n"
          ]
        }
      ],
      "source": [
        "# Verifica se a GPU está disponível\n",
        "device = torch.device(\"cuda\" if torch.cuda.is_available() else \"cpu\")\n",
        "\n",
        "NUM_EPOCH = 10\n",
        "\n",
        "# Função para calcular métricas\n",
        "def compute_metrics(eval_pred):\n",
        "    load_accuracy = load_metric(\"accuracy\")\n",
        "    logits, labels = eval_pred\n",
        "    predictions = np.argmax(logits, axis=-1)\n",
        "    accuracy = load_accuracy.compute(predictions=predictions, references=labels)[\"accuracy\"]\n",
        "    return {\"accuracy\": accuracy}\n",
        "\n",
        "# Função para treinar e avaliar o modelo\n",
        "def train_and_evaluate(model_name):\n",
        "    # Carrega o tokenizer e o modelo\n",
        "    tokenizer = AutoTokenizer.from_pretrained(model_name, do_lower_case=False)\n",
        "    model = AutoModelForSequenceClassification.from_pretrained(model_name, num_labels=len(set(y_train)), ignore_mismatched_sizes=True)\n",
        "    model.to(device)\n",
        "\n",
        "    # Tokeniza os dados de treino e teste\n",
        "\n",
        "    tokenized_train = tokenizer(\n",
        "        X_train.tolist(),  # passa a lista de textos diretamente\n",
        "        max_length=MAX_LEN,\n",
        "        add_special_tokens=True,\n",
        "        truncation=True,\n",
        "        #padding=True,\n",
        "        padding='max_length',\n",
        "        return_attention_mask=True,\n",
        "        return_tensors='pt'\n",
        "    )\n",
        "\n",
        "    tokenized_test = tokenizer(\n",
        "        X_test.tolist(),  # passa a lista de textos diretamente\n",
        "        max_length=MAX_LEN,\n",
        "        add_special_tokens=True,\n",
        "        truncation=True,\n",
        "        #padding=True,\n",
        "        padding='max_length',\n",
        "        return_attention_mask=True,\n",
        "        return_tensors='pt'\n",
        "    )\n",
        "\n",
        "    # Data collator\n",
        "    data_collator = DataCollatorWithPadding(tokenizer=tokenizer)\n",
        "\n",
        "    # Define argumentos de treinamento\n",
        "    training_args = TrainingArguments(\n",
        "        output_dir='./results',\n",
        "        num_train_epochs=NUM_EPOCH,\n",
        "        per_device_train_batch_size=8,\n",
        "        per_device_eval_batch_size=8,\n",
        "        warmup_steps=500,\n",
        "        weight_decay=0.01,\n",
        "        logging_dir='./logs',\n",
        "        logging_steps=10,\n",
        "        evaluation_strategy=\"epoch\"\n",
        "    )\n",
        "\n",
        "    # Define o Trainer\n",
        "    trainer = Trainer(\n",
        "        model=model,\n",
        "        args=training_args,\n",
        "        train_dataset=Dataset.from_dict({\"input_ids\": tokenized_train[\"input_ids\"],\n",
        "                                         \"attention_mask\": tokenized_train[\"attention_mask\"],\n",
        "                                         \"labels\": y_train}),\n",
        "        eval_dataset=Dataset.from_dict({\"input_ids\": tokenized_test[\"input_ids\"],\n",
        "                                        \"attention_mask\": tokenized_test[\"attention_mask\"],\n",
        "                                        \"labels\": y_test}),\n",
        "        data_collator=data_collator,\n",
        "        compute_metrics=compute_metrics\n",
        "    )\n",
        "\n",
        "    # Treina o modelo\n",
        "    trainer.train()\n",
        "\n",
        "    # Testa o modelo\n",
        "    eval_results = trainer.evaluate()\n",
        "    return  eval_results[\"eval_accuracy\"], model, tokenizer\n",
        "\n",
        "# Lista de modelos a serem testados\n",
        "model_names = [\n",
        "#    'neuralmind/bert-base-portuguese-cased',\n",
        "    'distilbert/distilbert-base-multilingual-cased',\n",
        "    'adalbertojunior/distilbert-portuguese-cased' #Equivalente ao bert-base-portuguese-cased porém menor\n",
        "]\n",
        "\n",
        "# Exibe a acuracia de cada modelo\n",
        "results = {}\n",
        "best_model = None\n",
        "best_tokenizer = None\n",
        "best_accuracy = 0\n",
        "for model_name in model_names:\n",
        "    accuracy, model, tokenizer = train_and_evaluate(model_name)\n",
        "    results[model_name] = accuracy\n",
        "    if accuracy > best_accuracy:\n",
        "        best_accuracy = accuracy\n",
        "        best_model = model\n",
        "        best_tokenizer = tokenizer    \n",
        "    print(f\"Model: {model_name}, Accuracy: {accuracy}\")"
      ]
    },
    {
      "cell_type": "markdown",
      "metadata": {},
      "source": [
        "### Melhor modelo"
      ]
    },
    {
      "cell_type": "code",
      "execution_count": 40,
      "metadata": {},
      "outputs": [
        {
          "name": "stdout",
          "output_type": "stream",
          "text": [
            "Best Model: adalbertojunior/distilbert-portuguese-cased, Accuracy: 0.903125\n"
          ]
        }
      ],
      "source": [
        "# Melhor modelo\n",
        "print(f\"Best Model: {best_model.config._name_or_path}, Accuracy: {best_accuracy}\")"
      ]
    },
    {
      "cell_type": "markdown",
      "metadata": {},
      "source": [
        "### Simulando a aplicação do modelo em dados não vistos"
      ]
    },
    {
      "cell_type": "code",
      "execution_count": 62,
      "metadata": {},
      "outputs": [
        {
          "name": "stdout",
          "output_type": "stream",
          "text": [
            "Predictions: [1 1 1 1 1 0 0 0 0 0]\n"
          ]
        }
      ],
      "source": [
        "# Novos dados - não sabemos a classe!\n",
        "data = [\n",
        "    'Excelente app! A entrega foi super rápida, e a comida chegou quentinha. Adorei a variedade de restaurantes disponíveis. Super recomendo para quem gosta de praticidade!', # 1 (Positivo)\n",
        "    'O aplicativo é super intuitivo e fácil de usar. Encontrei meus drinks favoritos em minutos, e o pagamento foi muito simples. Perfeito para uma noite em casa!', # 1 (Positivo)\n",
        "    'O melhor app de delivery que já usei! Além das opções saudáveis, a entrega é sempre no horário e com um ótimo atendimento. Nota 10!', # 1 (Positivo)\n",
        "    'Aplicativo maravilhoso! A interface é linda e super fácil de usar. Os cupons de desconto são um bônus que faz toda a diferença! 🤑💯', # 1 (Positivo)\n",
        "    'Gostei muito do app! A função de rastreamento em tempo real da entrega é excelente. Nunca mais fiquei na dúvida sobre o horário de chegada!', # 1 (Positivo)\n",
        "    'A experiência foi frustrante. O aplicativo travou várias vezes, e meu pedido chegou errado. Além disso, o suporte ao cliente demorou muito para responder.', # 0 (Negativo)\n",
        "    'Esperava mais do serviço. A comida chegou fria e com apresentação ruim. O app tem um layout bonito, mas isso não compensa a má qualidade da entrega.', # 0 (Negativo)\n",
        "    'Péssimo! A entrega demorou quase duas horas e, quando finalmente chegou, a comida estava completamente gelada. Não recomendo. ', # 0 (Negativo)\n",
        "    'Fiquei muito decepcionado. A interface do app é confusa e difícil de navegar. Além disso, tive problemas ao tentar finalizar o pagamento. Não usarei novamente.', # 0 (Negativo)\n",
        "    'Horrível! Além de demorar, o pedido veio errado. O suporte foi inútil e não resolveu o problema. Nunca mais uso esse app! 👎😡' # 0 (Negativo)\n",
        "]\n",
        "\n",
        "def predict(texts, tokenizer, model, device):\n",
        "    inputs = tokenizer(texts, max_length=40, add_special_tokens=True, truncation=True, padding='max_length', return_attention_mask=True, return_tensors='pt')\n",
        "    inputs = {key: value.to(device) for key, value in inputs.items()}\n",
        "    outputs = model(**inputs)\n",
        "    predictions = np.argmax(outputs.logits.detach().cpu().numpy(), axis=-1)\n",
        "    return predictions\n",
        "\n",
        "predictions = predict(data, best_tokenizer, best_model, 'cpu')\n",
        "print(f\"Predictions: {predictions}\")\n"
      ]
    },
    {
      "cell_type": "markdown",
      "metadata": {},
      "source": [
        "### Salvando os arquivos"
      ]
    },
    {
      "cell_type": "code",
      "execution_count": 53,
      "metadata": {},
      "outputs": [
        {
          "data": {
            "text/plain": [
              "('../models/tf_sentiment_classifier/tokenizer_config.json',\n",
              " '../models/tf_sentiment_classifier/special_tokens_map.json',\n",
              " '../models/tf_sentiment_classifier/vocab.txt',\n",
              " '../models/tf_sentiment_classifier/added_tokens.json',\n",
              " '../models/tf_sentiment_classifier/tokenizer.json')"
            ]
          },
          "execution_count": 53,
          "metadata": {},
          "output_type": "execute_result"
        }
      ],
      "source": [
        "# Caminhos onde os arquivos serão salvos\n",
        "model_path = \"../models/tf_sentiment_classifier/\"\n",
        "\n",
        "# Mover o modelo para a CPU antes de salvar\n",
        "best_model.cpu()\n",
        "\n",
        "# Salva o melhor modelo e tokenizer\n",
        "best_model.save_pretrained(model_path)\n",
        "best_tokenizer.save_pretrained(model_path)"
      ]
    },
    {
      "cell_type": "markdown",
      "metadata": {},
      "source": [
        "### Teste do modelo salvo"
      ]
    },
    {
      "cell_type": "code",
      "execution_count": 66,
      "metadata": {},
      "outputs": [
        {
          "name": "stdout",
          "output_type": "stream",
          "text": [
            "Predictions: [1 0 1]\n"
          ]
        }
      ],
      "source": [
        "# Caminhos onde os arquivos foram salvos\n",
        "model_path = \"../models/tf_sentiment_classifier/\"\n",
        "\n",
        "# Novos dados - não sabemos a classe!\n",
        "data = [ \n",
        "        'Muito bom!', # 1 (Positivo)\n",
        "        'Droga.', # 0 (Negativo)\n",
        "        'Muito ruim esse tempo.' # 0 (Negativo)\n",
        "]\n",
        "\n",
        "# Carrega o modelo e tokenizer do disco salvos para inferência\n",
        "\n",
        "model = AutoModelForSequenceClassification.from_pretrained(model_path)\n",
        "tokenizer = AutoTokenizer.from_pretrained(model_path)\n",
        "\n",
        "predictions = predict(data, tokenizer, model, 'cpu')\n",
        "print(f\"Predictions: {predictions}\")"
      ]
    }
  ],
  "metadata": {
    "accelerator": "GPU",
    "colab": {
      "gpuType": "T4",
      "provenance": []
    },
    "kernelspec": {
      "display_name": "Python 3",
      "name": "python3"
    },
    "language_info": {
      "codemirror_mode": {
        "name": "ipython",
        "version": 3
      },
      "file_extension": ".py",
      "mimetype": "text/x-python",
      "name": "python",
      "nbconvert_exporter": "python",
      "pygments_lexer": "ipython3",
      "version": "3.10.12"
    }
  },
  "nbformat": 4,
  "nbformat_minor": 0
}
